{
 "cells": [
  {
   "cell_type": "markdown",
   "metadata": {},
   "source": [
    "## Implementation"
   ]
  },
  {
   "cell_type": "code",
   "execution_count": 1,
   "metadata": {},
   "outputs": [],
   "source": [
    "mutable struct fourmi\n",
    "    pos ::Array{Int,1} \n",
    "    food ::Int # 1= has food, 0 = no food, -1 = has found an empty source\n",
    "    dir ::Array{Int,1} \n",
    "    function fourmi(pos=[81,81],food=0,dir=rand([[1,0],[-1,0],[0,1],[0,-1]]))\n",
    "        new(pos,food,dir)\n",
    "    end\n",
    "end"
   ]
  },
  {
   "cell_type": "code",
   "execution_count": 2,
   "metadata": {},
   "outputs": [
    {
     "data": {
      "text/plain": [
       "generate (generic function with 1 method)"
      ]
     },
     "execution_count": 2,
     "metadata": {},
     "output_type": "execute_result"
    }
   ],
   "source": [
    "function generate()\n",
    "    fm=ones(Int,161,161) #1 because 0 can lead to cases where only one way is used\n",
    "    fn=ones(Int,161,161)\n",
    "    ff=Array{fourmi,1}()\n",
    "    source=-1*ones(Int,161,161)\n",
    "    ff,source,fm,fn\n",
    "end"
   ]
  },
  {
   "cell_type": "code",
   "execution_count": null,
   "metadata": {},
   "outputs": [],
   "source": []
  },
  {
   "cell_type": "code",
   "execution_count": 3,
   "metadata": {},
   "outputs": [
    {
     "data": {
      "text/plain": [
       "next_pos (generic function with 1 method)"
      ]
     },
     "execution_count": 3,
     "metadata": {},
     "output_type": "execute_result"
    }
   ],
   "source": [
    "function next_pos(f,fer)\n",
    "    nextpos=[f.pos+f.dir,f.pos+f.dir+[0 1;-1 0]*f.dir,f.pos+f.dir+[0 -1;1 0]*f.dir]# use of the rotation matrix to find the coordinates of the possible next positions\n",
    "    tochoose=Array{Int,1}() # this is a vector representing the probabilities, each possible next position is represented f (n or m) times\n",
    "    for (i,p) in enumerate(nextpos)\n",
    "        append!(tochoose,i*ones(Int,1,fer[p...]))\n",
    "    end\n",
    "    next=nextpos[rand(tochoose)]\n",
    "end"
   ]
  },
  {
   "cell_type": "code",
   "execution_count": 4,
   "metadata": {},
   "outputs": [
    {
     "data": {
      "text/plain": [
       "turn (generic function with 1 method)"
      ]
     },
     "execution_count": 4,
     "metadata": {},
     "output_type": "execute_result"
    }
   ],
   "source": [
    "function turn(ff,source,fm,fn)\n",
    "    source2=deepcopy(source)\n",
    "    fm2=deepcopy(fm)\n",
    "    fn2=deepcopy(fn)\n",
    "\n",
    "    for (i,f) in enumerate(ff)\n",
    "        ## is it too far or too close to the nest ?\n",
    "        if sum(abs.(f.pos - [81,81]))<=2 && f.food ≠ 0 # too close and has seen a source --> it is coming back and has to turn around\n",
    "            f.food=0\n",
    "            f.dir=-f.dir\n",
    "            \n",
    "        elseif minimum(f.pos)==1 ||maximum(f.pos)==161 #too far --> lost\n",
    "            deleteat!(ff,i)\n",
    "            continue\n",
    "        end\n",
    "        ## has it found a source ?\n",
    "        if source[f.pos...] > 0 && f.food==0 #found a source\n",
    "            f.food= 1\n",
    "            f.dir=-f.dir\n",
    "            source2[f.pos...]-=1\n",
    "        elseif source[f.pos...] ==0 && f.food==0 #found a source but this is empty\n",
    "            f.food=-1\n",
    "            f.dir=-f.dir\n",
    "        end\n",
    "        ## what to do next ?\n",
    "        if f.food==1 #has to go to the nest\n",
    "            fn2[f.pos...]+=1\n",
    "            f.pos=next_pos(f,fm)\n",
    "        elseif f.food==0 #has to go search for food\n",
    "            fm2[f.pos...]+=1\n",
    "            f.pos=next_pos(f,fn)\n",
    "        else #is coming back and erasing fn\n",
    "            if fn2[f.pos...]>1\n",
    "                fn2[f.pos...]-=1\n",
    "            end\n",
    "            f.pos=next_pos(f,fm)\n",
    "        end\n",
    "\n",
    "    end\n",
    "    ff,source2,fm2,fn2\n",
    "end"
   ]
  },
  {
   "cell_type": "code",
   "execution_count": null,
   "metadata": {},
   "outputs": [],
   "source": []
  },
  {
   "cell_type": "markdown",
   "metadata": {},
   "source": [
    "## Tests"
   ]
  },
  {
   "cell_type": "markdown",
   "metadata": {},
   "source": [
    "# 1"
   ]
  },
  {
   "cell_type": "code",
   "execution_count": null,
   "metadata": {},
   "outputs": [],
   "source": [
    "ff,source,fm,fn=generate()\n",
    "source[70,:]=3*ones(1,161)\n",
    "push!(ff,fourmi([81,81],0,[-1,0]))\n",
    "\n",
    "for t in 1:20\n",
    "    ff,source,fm,fn=deepcopy(turn(ff,source,fm,fn))\n",
    "    println(ff[1].pos)\n",
    "\n",
    "end"
   ]
  },
  {
   "cell_type": "markdown",
   "metadata": {},
   "source": [
    "# 2"
   ]
  },
  {
   "cell_type": "code",
   "execution_count": 6,
   "metadata": {},
   "outputs": [
    {
     "name": "stdout",
     "output_type": "stream",
     "text": [
      "[80, 82]\n",
      "1 1 1\n",
      "1 1 1\n",
      "[79, 83]\n",
      "1 1 1\n",
      "1 1 1\n",
      "[78, 82]\n",
      "1 1 1\n",
      "1 1 1\n",
      "[77, 83]\n",
      "1 1 1\n",
      "1 1 1\n",
      "[76, 84]\n",
      "1 1 1\n",
      "1 1 1\n",
      "[75, 83]\n",
      "1 1 1\n",
      "1 1 1\n",
      "[74, 83]\n",
      "1 1 1\n",
      "1 1 1\n",
      "[73, 82]\n",
      "1 1 1\n",
      "1 1 1\n",
      "[72, 81]\n",
      "1 1 1\n",
      "1 1 1\n",
      "[71, 82]\n",
      "1 1 1\n",
      "1 1 1\n",
      "[70, 83]\n",
      "1 1 1\n",
      "1 1 1\n",
      "[71, 82]\n",
      "1 1 1\n",
      "2 2 1\n",
      "[72, 83]\n",
      "1 1 1\n",
      "1 2 1\n",
      "[73, 82]\n",
      "1 1 1\n",
      "1 2 2\n",
      "[74, 83]\n",
      "1 1 1\n",
      "2 1 1\n",
      "[75, 83]\n",
      "1 1 1\n",
      "1 1 2\n",
      "[76, 84]\n",
      "1 1 1\n",
      "1 2 1\n",
      "[77, 84]\n",
      "1 1 1\n",
      "1 1 1\n",
      "[78, 84]\n",
      "1 1 1\n",
      "1 2 1\n",
      "[79, 85]\n",
      "1 1 1\n",
      "1 1 1\n",
      "[80, 84]\n",
      "1 1 1\n",
      "1 1 1\n",
      "[81, 84]\n",
      "1 1 1\n",
      "1 1 1\n",
      "[82, 85]\n",
      "1 1 1\n",
      "1 1 1\n",
      "[83, 84]\n",
      "1 1 1\n",
      "1 1 1\n",
      "[84, 83]\n",
      "1 1 1\n",
      "1 1 1\n",
      "[85, 83]\n",
      "1 1 1\n",
      "1 1 1\n"
     ]
    }
   ],
   "source": [
    "ff,source,fm,fn=generate()\n",
    "source[70,:]=3*ones(1,161)\n",
    "push!(ff,fourmi([81,81],0,[-1,0]))\n",
    "\n",
    "for t in 0:25\n",
    "    if mod(t,2)==0\n",
    "        push!(ff,fourmi([81,81],0,[-1,0]))\n",
    "    end\n",
    "    ff,source,fm,fn=deepcopy(turn(ff,source,fm,fn))\n",
    "    println(ff[1].pos)\n",
    "    f=ff[1]\n",
    "    println(fn[(f.pos+f.dir)...],\" \",fn[(f.pos+f.dir+[0 1;-1 0]*f.dir)...],\" \",fn[(f.pos+f.dir+[0 -1;1 0]*f.dir)...])\n",
    "    println(fm[(f.pos+f.dir)...],\" \",fm[(f.pos+f.dir+[0 1;-1 0]*f.dir)...],\" \",fm[(f.pos+f.dir+[0 -1;1 0]*f.dir)...])\n",
    "end"
   ]
  },
  {
   "cell_type": "markdown",
   "metadata": {},
   "source": [
    "## 3"
   ]
  },
  {
   "cell_type": "code",
   "execution_count": null,
   "metadata": {},
   "outputs": [],
   "source": [
    "ff,source,fm,fn=generate()\n",
    "source[70,:]=3*ones(1,161)\n",
    "\n",
    "for t in 0:50\n",
    "    if mod(t,2)==0\n",
    "        push!(ff,fourmi([81,81],0,[-1,0]))\n",
    "    end\n",
    "    ff,source,fm,fn=deepcopy(turn(ff,source,fm,fn))\n",
    "    for (i,f) in enumerate(ff)\n",
    "        if f.food == -1\n",
    "            println(i,\" \",f.pos)\n",
    "        end\n",
    "    end\n",
    "end"
   ]
  },
  {
   "cell_type": "markdown",
   "metadata": {},
   "source": [
    "## total"
   ]
  },
  {
   "cell_type": "code",
   "execution_count": 5,
   "metadata": {},
   "outputs": [],
   "source": [
    "using Plots"
   ]
  },
  {
   "cell_type": "code",
   "execution_count": 6,
   "metadata": {},
   "outputs": [
    {
     "data": {
      "text/plain": [
       "visualize2dim (generic function with 1 method)"
      ]
     },
     "execution_count": 6,
     "metadata": {},
     "output_type": "execute_result"
    }
   ],
   "source": [
    "global mycmap = ColorGradient([RGBA(255/255,255/255,255/255),\n",
    "    RGBA(0/255,0/255,0/255),\n",
    "    RGBA(255/255,100/255,100/255),\n",
    "    RGBA(255/255,0/255,0/255),\n",
    "    RGBA(0/255,255/255,0/255),\n",
    "    RGBA(0/255,0/255,255/255)]);\n",
    "\n",
    "function visualize2dim(ff,source, dim,n)\n",
    "    nx ,ny =size(source)\n",
    "    out=Array{Float64,2}(undef,nx,ny)\n",
    "    for i in 1:nx\n",
    "        for j in 1:ny\n",
    "            if source[i,j]==-1\n",
    "               out[i,j]=fn[i,j]/(n/16)\n",
    "            elseif source[i,j]>0\n",
    "                out[i,j]=3\n",
    "            else\n",
    "                out[i,j]=2\n",
    "            end\n",
    "        end\n",
    "    end\n",
    "    #\n",
    "    for f in ff\n",
    "        out[f.pos...]=4\n",
    "    end\n",
    "    out[81,81]=5\n",
    "    heatmap(out,yflip=true,color=mycmap,size=(600,600), title=\"Ant simulation\")\n",
    "end"
   ]
  },
  {
   "cell_type": "code",
   "execution_count": null,
   "metadata": {},
   "outputs": [],
   "source": [
    "ff,source,fm,fn=generate()\n",
    "n=100\n",
    "for _ in 1:n\n",
    "    source[rand(1:161),rand(1:161)]=rand(1:20)\n",
    "end\n",
    "global ff = deepcopy(ff)\n",
    "global source= source\n",
    "global fm  = fm\n",
    "global fn=fn\n",
    "\n",
    "anim = @animate for t in 0:10000\n",
    "    if mod(t,2)==0\n",
    "        push!(ff,fourmi())\n",
    "    end\n",
    "    ff,source,fm,fn=deepcopy(turn(ff,source,fm,fn))\n",
    "    global ff = ff\n",
    "    global source= source\n",
    "    global fm  = fm\n",
    "    global fn=fn\n",
    "    visualize2dim(ff,source,3,1000)\n",
    "end\n",
    "gif(anim, \"anim_fps30.gif\", fps = 30)"
   ]
  },
  {
   "cell_type": "code",
   "execution_count": null,
   "metadata": {},
   "outputs": [],
   "source": []
  },
  {
   "cell_type": "code",
   "execution_count": 83,
   "metadata": {},
   "outputs": [
    {
     "data": {
      "text/plain": [
       "2-element Array{Int64,1}:\n",
       " 1\n",
       " 1"
      ]
     },
     "execution_count": 83,
     "metadata": {},
     "output_type": "execute_result"
    }
   ],
   "source": [
    "[0 -1;1 0]^4 *[1,1]"
   ]
  }
 ],
 "metadata": {
  "kernelspec": {
   "display_name": "Julia 1.2.0",
   "language": "julia",
   "name": "julia-1.2"
  },
  "language_info": {
   "file_extension": ".jl",
   "mimetype": "application/julia",
   "name": "julia",
   "version": "1.2.0"
  }
 },
 "nbformat": 4,
 "nbformat_minor": 4
}
